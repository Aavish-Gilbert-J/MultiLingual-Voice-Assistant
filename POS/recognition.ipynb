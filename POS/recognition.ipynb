{
 "cells": [
  {
   "cell_type": "code",
   "execution_count": 34,
   "metadata": {},
   "outputs": [
    {
     "name": "stdout",
     "output_type": "stream",
     "text": [
      "Recognizing...:\n",
      "You said: ನನ್ನ ಹೆಸರೇನು\n"
     ]
    }
   ],
   "source": [
    "import speech_recognition as sr\n",
    "import time\n",
    "import pyaudio\n",
    "\n",
    "lan={'ASSAMESE':'as-IN',\n",
    "      'BENGALI':'bn-IN',\n",
    "      'BODO':'brx-IN',\n",
    "      'DOGRI':'doi-IN',\n",
    "      'GUJARATI':'gu-IN',\n",
    "      'HINDI':'hi-IN',\n",
    "      'KANNADA':'kn-IN',\n",
    "      'KASHMIRI':'ks-IN',\n",
    "      'KONKANI':'gom-IN',\n",
    "      'MAITHILI':'mai-IN',\n",
    "      'MALAYALAM':'ml-IN',\n",
    "      'MANIPURI':'mni-IN',\n",
    "      'MARATHI':'mr-IN',\n",
    "      'NEPALI':'ne-IN',\n",
    "      'ORIYA':'or-IN',\n",
    "      'PUNJABI':'pa-IN',\n",
    "      'SANSKRIT':'sa-IN',\n",
    "      'SANTALI':'sat-IN',\n",
    "      'SINDHI':'sd-IN',\n",
    "      'TAMIL':'ta-IN',\n",
    "      'TELEGU':'te-IN',\n",
    "      'URDU':'ur-IN'}\n",
    "\n",
    "a=input(\"SELECT LANGUAGE:1.ENGLISH\\n2.HINDI\\n3.tamil\")\n",
    "\n",
    "if(a not in lan.keys()):\n",
    "    print(\"sorry not available\")\n",
    "else:\n",
    "    r = sr.Recognizer()\n",
    "\n",
    "    # Reading Microphone as source\n",
    "    # listening the speech and store in audio_text variable\n",
    "    start=time.time()\n",
    "    with sr.Microphone() as source:\n",
    "        # read the audio data from the default microphone\n",
    "        audio_data = r.record(source, duration=5)\n",
    "        print(\"Recognizing...:\")\n",
    "        # convert speech to text\n",
    "        \n",
    "        try:\n",
    "            text = r.recognize_google(audio_data,language=lan[a])\n",
    "            print(\"You said:\",text)\n",
    "\n",
    "        except:\n",
    "            print(\"sorry couldnt hear your voice\")"
   ]
  },
  {
   "cell_type": "code",
   "execution_count": null,
   "metadata": {},
   "outputs": [],
   "source": [
    "dict={'ASSAMESE':'as-IN',\n",
    "      'BENGALI':'bn-IN',\n",
    "      'BODO':'brx-IN',\n",
    "      'DOGRI':'doi-IN',\n",
    "      'GUJARATI':'gu-IN',\n",
    "      'HINDI':'hi-IN',\n",
    "      'KANNADA':'kn-IN',\n",
    "      'KASHMIRI':'ks-IN',\n",
    "      'KONKANI':'gom-IN',\n",
    "      'MAITHILI':'mai-IN',\n",
    "      'MALAYALAM':'ml-IN',\n",
    "      'MANIPURI':'mni-IN',\n",
    "      'MARATHI':'mr-IN',\n",
    "      'NEPALI':'ne-IN',\n",
    "      'ORIYA':'or-IN',\n",
    "      'PUNJABI':'pa-IN',\n",
    "      'SANSKRIT':'sa-IN',\n",
    "      'SANTALI':'sat-IN',\n",
    "      'SINDHI':'sd-IN',\n",
    "      'TAMIL':'ta-IN',\n",
    "      'TELEGU':'te-IN',\n",
    "      'URDU':'ur-IN'}"
   ]
  },
  {
   "cell_type": "code",
   "execution_count": null,
   "metadata": {},
   "outputs": [],
   "source": []
  },
  {
   "cell_type": "code",
   "execution_count": null,
   "metadata": {},
   "outputs": [],
   "source": []
  },
  {
   "cell_type": "code",
   "execution_count": null,
   "metadata": {},
   "outputs": [],
   "source": []
  },
  {
   "cell_type": "code",
   "execution_count": null,
   "metadata": {},
   "outputs": [],
   "source": []
  },
  {
   "cell_type": "code",
   "execution_count": null,
   "metadata": {},
   "outputs": [],
   "source": []
  }
 ],
 "metadata": {
  "kernelspec": {
   "display_name": "Python 3.10.4 64-bit",
   "language": "python",
   "name": "python3"
  },
  "language_info": {
   "codemirror_mode": {
    "name": "ipython",
    "version": 3
   },
   "file_extension": ".py",
   "mimetype": "text/x-python",
   "name": "python",
   "nbconvert_exporter": "python",
   "pygments_lexer": "ipython3",
   "version": "3.10.4"
  },
  "orig_nbformat": 4,
  "vscode": {
   "interpreter": {
    "hash": "b5ad47345e24d227510e3c0045cce67c7c25c533a4340498c8b8e98383c97929"
   }
  }
 },
 "nbformat": 4,
 "nbformat_minor": 2
}
