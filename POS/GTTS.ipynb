{
 "cells": [
  {
   "cell_type": "code",
   "execution_count": 2,
   "metadata": {},
   "outputs": [
    {
     "data": {
      "text/plain": [
       "24"
      ]
     },
     "execution_count": 2,
     "metadata": {},
     "output_type": "execute_result"
    }
   ],
   "source": [
    "from gtts import gTTS\n",
    "import os\n",
    "\n",
    "tts = gTTS('what is your name', lang='en',tld='co.in', slow=False )\n",
    "tts.save('hello.mp3')\n",
    "\n",
    "\n",
    "os.system('hello.mp3')\n",
    "os.remove('hello.mp3')\n",
    "\n",
    "import win32gui, win32con\n",
    "hide=win32gui.GetForegroundWindow()\n",
    "win32gui.ShowWindow(hide, win32con.SW_HIDE)"
   ]
  },
  {
   "cell_type": "code",
   "execution_count": 9,
   "metadata": {},
   "outputs": [],
   "source": []
  },
  {
   "cell_type": "code",
   "execution_count": 40,
   "metadata": {},
   "outputs": [
    {
     "name": "stdout",
     "output_type": "stream",
     "text": [
      "<class 'pyttsx3.voice.Voice'>\n"
     ]
    }
   ],
   "source": []
  }
 ],
 "metadata": {
  "kernelspec": {
   "display_name": "Python 3.10.4 64-bit",
   "language": "python",
   "name": "python3"
  },
  "language_info": {
   "codemirror_mode": {
    "name": "ipython",
    "version": 3
   },
   "file_extension": ".py",
   "mimetype": "text/x-python",
   "name": "python",
   "nbconvert_exporter": "python",
   "pygments_lexer": "ipython3",
   "version": "3.10.4"
  },
  "orig_nbformat": 4,
  "vscode": {
   "interpreter": {
    "hash": "b5ad47345e24d227510e3c0045cce67c7c25c533a4340498c8b8e98383c97929"
   }
  }
 },
 "nbformat": 4,
 "nbformat_minor": 2
}
